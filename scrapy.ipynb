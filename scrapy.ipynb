{
 "cells": [
  {
   "cell_type": "code",
   "execution_count": 24,
   "metadata": {
    "collapsed": true
   },
   "outputs": [],
   "source": [
    "from time import sleep\n",
    "from selenium import webdriver\n",
    "import csv"
   ]
  },
  {
   "cell_type": "code",
   "execution_count": 21,
   "metadata": {
    "collapsed": false,
    "scrolled": false
   },
   "outputs": [],
   "source": [
    "# Make sure you have the most recent Chrome Driver:\n",
    "# https://sites.google.com/a/chromium.org/chromedriver/downloads\n",
    "\n",
    "# Set path to Chrome Driver\n",
    "chrome = '/Users/lucio/desktop/sos-scraper/chromedriver'\n",
    "\n",
    "# Setting Chrome options\n",
    "opt = webdriver.ChromeOptions()\n",
    "\n",
    "# Chrome extension that disables images for faster load time\n",
    "opt.add_extension(\"block-images.crx\")\n",
    "\n",
    "# Open Chrome browser\n",
    "browser = webdriver.Chrome(executable_path = chrome, chrome_options=opt)\n",
    "\n",
    "# Set URL\n",
    "url = 'http://kepler.sos.ca.gov/'"
   ]
  },
  {
   "cell_type": "code",
   "execution_count": null,
   "metadata": {
    "collapsed": false,
    "scrolled": false
   },
   "outputs": [],
   "source": [
    "# Grabs data from csv file to run search \n",
    "data = open('data.csv', 'rb')\n",
    "reader = csv.reader(data)\n",
    "new_rows_list = []\n",
    "\n",
    "count = 0\n",
    "\n",
    "for row in reader:\n",
    "\n",
    "      browser.get(url)\n",
    "      html = browser.page_source\n",
    "        \n",
    "      if \"ct100_content_placeholder_body_BusinessSearch1_RadioButtonList_SearchType_2\" in html:\n",
    "          browser.find_element_by_id(\"ct100_content_placeholder_body_BusinessSearch1_RadioButtonList_SearchType_2\").click()\n",
    "      else:\n",
    "          browser.find_element_by_id(\"ctl00_content_placeholder_body_BusinessSearch1_RadioButtonList_SearchType_2\").click()\n",
    "    \n",
    "      browser.find_element_by_css_selector('input[type=\\\"text\\\"]').send_keys('C'+row[1])  \n",
    "      browser.find_element_by_css_selector('input[type=\\\"submit\\\"]').click()\n",
    "\n",
    "      html = browser.page_source    \n",
    "    \n",
    "      if \"valid entity number\" in html:\n",
    "          date = \"null\"\n",
    "          status = \"null\"\n",
    "          name = \"null\"\n",
    "          agent = \"null\"\n",
    "          location = \"null\"\n",
    "\n",
    "      elif \"Record not found\" in html:\n",
    "          date = \"rnf\"\n",
    "          status = \"rnf\"\n",
    "          name = \"rnf\"\n",
    "          agent = \"rnf\"\n",
    "          location = \"rnf\"\n",
    "        \n",
    "      else:\n",
    "          date = browser.find_element_by_xpath('//td[2]').text\n",
    "          status = browser.find_element_by_xpath('//td[3]').text\n",
    "          name = browser.find_element_by_xpath('//td[4]/a').text\n",
    "          agent = browser.find_element_by_xpath('//td[5]').text\n",
    "          \n",
    "          if 'ctl00_content_placeholder_body_SearchResults1_GridView_SearchResults_Corp_ctl02_ctl00' in html:\n",
    "              browser.find_element_by_id('ctl00_content_placeholder_body_SearchResults1_GridView_SearchResults_Corp_ctl02_ctl00').click()\n",
    "          else:\n",
    "              browser.find_element_by_id('ctl00_content_placeholder_body_SearchResults1_GridView_SearchResults_Corp_ctl02_ctl00').click()\n",
    "          location = browser.find_element_by_xpath('//tr[7]/td[2]').text\n",
    "          \n",
    "      new_row = [row[0], date, status, name, agent, location]\n",
    "      new_rows_list.append(new_row)\n",
    "        \n",
    "      count += 1\n",
    "#       print count\n",
    "    \n",
    "      if count % 5 == 0:\n",
    "          sleep(5)\n",
    "\n",
    "data.close()"
   ]
  },
  {
   "cell_type": "code",
   "execution_count": 23,
   "metadata": {
    "collapsed": true
   },
   "outputs": [],
   "source": [
    "# Do the writing\n",
    "results = open('results.csv', 'wb')\n",
    "writer = csv.writer(results)\n",
    "writer.writerows(new_rows_list)\n",
    "results.close()"
   ]
  }
 ],
 "metadata": {
  "kernelspec": {
   "display_name": "Python 2",
   "language": "python",
   "name": "python2"
  },
  "language_info": {
   "codemirror_mode": {
    "name": "ipython",
    "version": 2
   },
   "file_extension": ".py",
   "mimetype": "text/x-python",
   "name": "python",
   "nbconvert_exporter": "python",
   "pygments_lexer": "ipython2",
   "version": "2.7.10"
  }
 },
 "nbformat": 4,
 "nbformat_minor": 0
}
